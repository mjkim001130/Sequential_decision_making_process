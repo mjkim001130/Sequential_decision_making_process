{
 "cells": [
  {
   "cell_type": "markdown",
   "metadata": {},
   "source": [
    "![](cost_state.png)"
   ]
  },
  {
   "cell_type": "markdown",
   "metadata": {},
   "source": [
    "### Fixed-Length Cost to go"
   ]
  },
  {
   "cell_type": "code",
   "execution_count": 1,
   "metadata": {},
   "outputs": [
    {
     "data": {
      "text/plain": [
       "array([[inf, inf, inf,  0., inf],\n",
       "       [inf,  4.,  1., inf, inf],\n",
       "       [ 6.,  2., inf,  2., inf],\n",
       "       [ 4.,  6.,  3., inf, inf],\n",
       "       [ 6.,  4.,  5.,  4., inf]])"
      ]
     },
     "execution_count": 1,
     "metadata": {},
     "output_type": "execute_result"
    }
   ],
   "source": [
    "import numpy as np\n",
    "inf = np.inf\n",
    "\n",
    "\n",
    "cost4transition = np.array([\n",
    "    [2.,  2., inf, inf, inf],\n",
    "    [inf, inf,  1., 4., inf],\n",
    "    [1.,  inf, inf,  1., inf],\n",
    "    [inf, inf,  1., inf,  1.],\n",
    "    [inf, inf, inf, inf, inf]\n",
    "])\n",
    "\n",
    "# City Index\n",
    "a, b, c, d, e = 0, 1, 2, 3, 4\n",
    "goal = d\n",
    "# Fixed Length\n",
    "fixed_length = 5\n",
    "\n",
    "num_city = len(cost4transition[0])\n",
    "G = np.full((fixed_length, num_city), inf)\n",
    "G[0, goal] = 0\n",
    "\n",
    "\n",
    "def backward_value_iteration(k, G, cost4transition):\n",
    "    for k in range(1, k):\n",
    "        for u in range(num_city):\n",
    "            min_cost = inf\n",
    "            for x in range(num_city):\n",
    "                if cost4transition[u, x] != inf:\n",
    "                    cost = cost4transition[u, x] + G[k-1, x]\n",
    "                    min_cost = min(min_cost, cost)\n",
    "            G[k, u] = min_cost\n",
    "    return G\n",
    "\n",
    "G = backward_value_iteration(fixed_length, G, cost4transition)\n",
    "G"
   ]
  },
  {
   "cell_type": "markdown",
   "metadata": {},
   "source": [
    "### Fixed Length Cost to Come"
   ]
  },
  {
   "cell_type": "code",
   "execution_count": 2,
   "metadata": {},
   "outputs": [
    {
     "data": {
      "text/plain": [
       "array([[ 0., inf, inf, inf, inf],\n",
       "       [ 2.,  2., inf, inf, inf],\n",
       "       [ 4.,  4.,  3.,  6., inf],\n",
       "       [ 4.,  6.,  5.,  4.,  7.],\n",
       "       [ 6.,  6.,  5.,  6.,  5.]])"
      ]
     },
     "execution_count": 2,
     "metadata": {},
     "output_type": "execute_result"
    }
   ],
   "source": [
    "# Define the initial state and the cost matrix\n",
    "initial_state = a  # Starting at city A\n",
    "fixed_length = 5  # Fixed number of steps\n",
    "\n",
    "C = np.full((fixed_length, num_city), np.inf)\n",
    "C[0, initial_state] = 0  # Initial cost for the starting city is 0\n",
    "\n",
    "\n",
    "def forward_value_iteration(C, cost4transition, fixed_length):\n",
    "    for k in range(1, fixed_length):\n",
    "        for x_k in range(num_city):\n",
    "            costs_to_come = [C[k-1, u_k_1] + cost4transition[u_k_1, x_k] for u_k_1 in range(num_city)]\n",
    "            C[k, x_k] = np.min(costs_to_come)\n",
    "    return C\n",
    "\n",
    "\n",
    "C = forward_value_iteration(C, cost4transition, fixed_length)\n",
    "C\n"
   ]
  },
  {
   "cell_type": "markdown",
   "metadata": {},
   "source": [
    "### Unfixed-Length Cost to go"
   ]
  },
  {
   "cell_type": "code",
   "execution_count": 3,
   "metadata": {},
   "outputs": [
    {
     "data": {
      "text/plain": [
       "array([ 4.,  2.,  1.,  0., inf])"
      ]
     },
     "execution_count": 3,
     "metadata": {},
     "output_type": "execute_result"
    }
   ],
   "source": [
    "def backward_value_iteration_unfixed_corrected(G, cost4transition):\n",
    "    updated = True\n",
    "    \n",
    "    while updated:\n",
    "        updated = False  \n",
    "        for u in range(len(G)):\n",
    "            if u == goal:  \n",
    "                continue\n",
    "            \n",
    "            current_cost = G[u]  # Current cost for city u\n",
    "            \n",
    "            for x in range(len(G)):\n",
    "                if cost4transition[u, x] != np.inf and G[x] != np.inf:\n",
    "                    new_cost = cost4transition[u, x] + G[x]\n",
    "                    if new_cost < current_cost:\n",
    "                        G[u] = new_cost\n",
    "                        updated = True\n",
    "    \n",
    "    return G\n",
    "\n",
    "G_unfixed_corrected = np.full(num_city, np.inf)\n",
    "G_unfixed_corrected[goal] = 0\n",
    "\n",
    "\n",
    "G_unfixed_final = backward_value_iteration_unfixed_corrected(G_unfixed_corrected, cost4transition)\n",
    "G_unfixed_final\n"
   ]
  },
  {
   "cell_type": "markdown",
   "metadata": {},
   "source": [
    "Unfixed-Length Cost to come"
   ]
  },
  {
   "cell_type": "code",
   "execution_count": 4,
   "metadata": {},
   "outputs": [
    {
     "data": {
      "text/plain": [
       "array([2., 0., 1., 2., 3.])"
      ]
     },
     "execution_count": 4,
     "metadata": {},
     "output_type": "execute_result"
    }
   ],
   "source": [
    "def forward_value_iteration_unfixed(C, cost4transition):\n",
    "    updated = True  \n",
    "    \n",
    "    while updated:\n",
    "        updated = False\n",
    "        for current_city in range(num_city):\n",
    "            for next_city in range(num_city):\n",
    "                if cost4transition[current_city, next_city] != np.inf:\n",
    "                    new_cost = C[current_city] + cost4transition[current_city, next_city]\n",
    "                    if new_cost < C[next_city]:\n",
    "                        C[next_city] = new_cost\n",
    "                        updated = True  \n",
    "                        \n",
    "    return C\n",
    "\n",
    "start = b\n",
    "C = np.full(num_city, np.inf)  \n",
    "C[start] = 0  \n",
    "\n",
    "\n",
    "C_unfixed_result = forward_value_iteration_unfixed(C, cost4transition)\n",
    "C_unfixed_result\n"
   ]
  },
  {
   "cell_type": "code",
   "execution_count": null,
   "metadata": {},
   "outputs": [],
   "source": []
  }
 ],
 "metadata": {
  "kernelspec": {
   "display_name": "Python 3.9.5 64-bit",
   "language": "python",
   "name": "python3"
  },
  "language_info": {
   "codemirror_mode": {
    "name": "ipython",
    "version": 3
   },
   "file_extension": ".py",
   "mimetype": "text/x-python",
   "name": "python",
   "nbconvert_exporter": "python",
   "pygments_lexer": "ipython3",
   "version": "3.9.5"
  },
  "orig_nbformat": 4,
  "vscode": {
   "interpreter": {
    "hash": "81794d4967e6c3204c66dcd87b604927b115b27c00565d3d43f05ba2f3a2cb0d"
   }
  }
 },
 "nbformat": 4,
 "nbformat_minor": 2
}
