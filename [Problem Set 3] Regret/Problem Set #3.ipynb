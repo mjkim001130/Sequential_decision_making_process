{
 "cells": [
  {
   "cell_type": "code",
   "execution_count": 2,
   "metadata": {},
   "outputs": [],
   "source": [
    "import matplotlib.pyplot as plt\n",
    "import numpy as np"
   ]
  },
  {
   "cell_type": "code",
   "execution_count": 8,
   "metadata": {},
   "outputs": [
    {
     "name": "stdout",
     "output_type": "stream",
     "text": [
      "T = \n",
      "[[2 0 2]\n",
      " [0 3 0]\n",
      " [3 0 3]] \n",
      "\n",
      "P_theta = \n",
      "[0.2 0.2 0.6]\n"
     ]
    }
   ],
   "source": [
    "L = np.array([[1, -1, 0],\n",
    "              [-1 ,2 ,-2],\n",
    "              [2, -1, 1]])\n",
    "\n",
    "T = L - L.min(axis=0)\n",
    "\n",
    "P_theta = np.array([1/5 ,1/5, 3/5])\n",
    "print(\"T = \")\n",
    "print(T, \"\\n\")\n",
    "print(\"P_theta = \")\n",
    "print(P_theta)"
   ]
  },
  {
   "cell_type": "markdown",
   "metadata": {},
   "source": [
    "### 1. Numerically solve the Game with Nature using Non-Deterministic Nature Model"
   ]
  },
  {
   "cell_type": "code",
   "execution_count": 11,
   "metadata": {},
   "outputs": [
    {
     "name": "stdout",
     "output_type": "stream",
     "text": [
      "u* = u_0\n"
     ]
    }
   ],
   "source": [
    "u_star_nondeterministic = np.argmin(np.max(T, axis=1))\n",
    "print(\"u* = u_\", u_star_nondeterministic, sep=\"\")"
   ]
  },
  {
   "cell_type": "markdown",
   "metadata": {},
   "source": [
    "### Numerically solve the Game with Nature using Probabilistic Nature Model"
   ]
  },
  {
   "cell_type": "code",
   "execution_count": 12,
   "metadata": {},
   "outputs": [
    {
     "name": "stdout",
     "output_type": "stream",
     "text": [
      "u* = u_1\n"
     ]
    }
   ],
   "source": [
    "u_star_probabilistic = np.argmin(np.dot(T, P_theta))\n",
    "print(\"u* = u_\", u_star_probabilistic, sep=\"\")"
   ]
  },
  {
   "cell_type": "markdown",
   "metadata": {},
   "source": [
    "#### run 1000 trials for each strategy and plot the cumulative cost(y-axis) along the trial(x-axis)"
   ]
  },
  {
   "cell_type": "code",
   "execution_count": 16,
   "metadata": {},
   "outputs": [
    {
     "data": {
      "image/png": "[encoded data removed]",
      "text/plain": [
       "<Figure size 432x288 with 1 Axes>"
      ]
     },
     "metadata": {
      "needs_background": "light"
     },
     "output_type": "display_data"
    }
   ],
   "source": [
    "cost1 = []\n",
    "cost2 = []\n",
    "\n",
    "for i in range(1000):\n",
    "    theta = np.random.choice([0, 1, 2], p=P_theta)\n",
    "    cost1.append(T[u_star_nondeterministic, theta])\n",
    "    cost2.append(T[u_star_probabilistic, theta])\n",
    "\n",
    "plt.plot(np.cumsum(cost1), label=\"Nondeterministic\")\n",
    "plt.plot(np.cumsum(cost2), label=\"Probabilistic\")\n",
    "plt.xlabel('Trial')\n",
    "plt.ylabel('Cumulative Cost')\n",
    "plt.legend()\n",
    "plt.show()"
   ]
  },
  {
   "cell_type": "code",
   "execution_count": null,
   "metadata": {},
   "outputs": [],
   "source": []
  }
 ],
 "metadata": {
  "kernelspec": {
   "display_name": "Python 3",
   "language": "python",
   "name": "python3"
  },
  "language_info": {
   "codemirror_mode": {
    "name": "ipython",
    "version": 3
   },
   "file_extension": ".py",
   "mimetype": "text/x-python",
   "name": "python",
   "nbconvert_exporter": "python",
   "pygments_lexer": "ipython3",
   "version": "3.9.5"
  }
 },
 "nbformat": 4,
 "nbformat_minor": 2
}
