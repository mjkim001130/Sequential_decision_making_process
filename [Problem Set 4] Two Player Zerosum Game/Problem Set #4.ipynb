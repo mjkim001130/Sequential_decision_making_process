{
 "cells": [
  {
   "cell_type": "code",
   "execution_count": 2,
   "metadata": {},
   "outputs": [],
   "source": [
    "import numpy as np\n",
    "import matplotlib.pyplot as plt"
   ]
  },
  {
   "cell_type": "code",
   "execution_count": 3,
   "metadata": {},
   "outputs": [
    {
     "data": {
      "text/plain": [
       "array([[ 1,  3,  3,  2],\n",
       "       [ 0, -1,  2,  1],\n",
       "       [-2,  2,  0,  1]])"
      ]
     },
     "execution_count": 3,
     "metadata": {},
     "output_type": "execute_result"
    }
   ],
   "source": [
    "L = np.array([[1, 3, 3, 2],\n",
    "              [0, -1, 2, 1],\n",
    "              [-2, 2, 0, 1]])\n",
    "\n",
    "L"
   ]
  },
  {
   "cell_type": "markdown",
   "metadata": {},
   "source": [
    "### 1. security strategy for P1"
   ]
  },
  {
   "cell_type": "code",
   "execution_count": 8,
   "metadata": {},
   "outputs": [
    {
     "name": "stdout",
     "output_type": "stream",
     "text": [
      "u* = 1\n",
      "L*^bar = 2\n"
     ]
    }
   ],
   "source": [
    "u_star = np.argmin(np.max(L, axis=1))\n",
    "L_star_upper_bar = np.max(L[u_star, :])\n",
    "\n",
    "print(\"u* = \", u_star, sep=\"\")\n",
    "print(\"L*^bar = \", L_star_upper_bar, sep=\"\")"
   ]
  },
  {
   "cell_type": "markdown",
   "metadata": {},
   "source": [
    "### 2. security strategy for P2"
   ]
  },
  {
   "cell_type": "code",
   "execution_count": 9,
   "metadata": {},
   "outputs": [
    {
     "name": "stdout",
     "output_type": "stream",
     "text": [
      "v* = 3\n",
      "L*_bar = 1\n"
     ]
    }
   ],
   "source": [
    "v_star = np.argmax(np.min(L, axis=0))\n",
    "L_star_lower_bar = np.min(L[:, v_star])\n",
    "\n",
    "print(\"v* = \", v_star, sep=\"\")\n",
    "print(\"L*_bar = \", L_star_lower_bar, sep=\"\")"
   ]
  },
  {
   "cell_type": "markdown",
   "metadata": {},
   "source": [
    "### 3. statisfy following condition?\n",
    "\n",
    "$$\\underline{L}^* \\leq L(u^*, v^*)\\leq \\overline{L}^*\n",
    "$$"
   ]
  },
  {
   "cell_type": "markdown",
   "metadata": {},
   "source": [
    "Not statisfied"
   ]
  }
 ],
 "metadata": {
  "kernelspec": {
   "display_name": "Python 3",
   "language": "python",
   "name": "python3"
  },
  "language_info": {
   "codemirror_mode": {
    "name": "ipython",
    "version": 3
   },
   "file_extension": ".py",
   "mimetype": "text/x-python",
   "name": "python",
   "nbconvert_exporter": "python",
   "pygments_lexer": "ipython3",
   "version": "3.12.3"
  }
 },
 "nbformat": 4,
 "nbformat_minor": 2
}
