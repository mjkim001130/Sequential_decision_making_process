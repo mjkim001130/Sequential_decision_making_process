{
 "cells": [
  {
   "cell_type": "code",
   "execution_count": 6,
   "metadata": {},
   "outputs": [],
   "source": [
    "import numpy as np"
   ]
  },
  {
   "cell_type": "code",
   "execution_count": 7,
   "metadata": {},
   "outputs": [
    {
     "name": "stdout",
     "output_type": "stream",
     "text": [
      "L1 = \n",
      "[[ 3  3  5]\n",
      " [ 1 -1  7]\n",
      " [ 0 -2  4]] \n",
      "\n",
      "L2 = \n",
      "[[ 4  3  5  1  2]\n",
      " [-1  0 -2  0 -1]\n",
      " [-4  1  4  3  5]\n",
      " [-3  0 -1  0 -2]\n",
      " [ 3  2 -7  3  8]] \n",
      "\n"
     ]
    }
   ],
   "source": [
    "L1 = np.array([[3, 3, 5],\n",
    "               [1, -1, 7],\n",
    "               [0, -2, 4]])\n",
    "\n",
    "L2 = np.array([[4, 3, 5, 1, 2],\n",
    "               [-1, 0, -2, 0, -1],\n",
    "               [-4, 1, 4, 3, 5],\n",
    "               [-3, 0, -1, 0, -2],\n",
    "               [3, 2, -7, 3, 8]])\n",
    "\n",
    "print(\"L1 = \")\n",
    "print(L1, \"\\n\")\n",
    "\n",
    "print(\"L2 = \")\n",
    "print(L2, \"\\n\")"
   ]
  },
  {
   "cell_type": "markdown",
   "metadata": {},
   "source": [
    "# 1."
   ]
  },
  {
   "cell_type": "code",
   "execution_count": 8,
   "metadata": {},
   "outputs": [],
   "source": [
    "def find_saddle_points1(L):\n",
    "    L_low = np.max(np.min(L, axis=0))\n",
    "    L_high = np.min(np.max(L, axis=1))\n",
    "\n",
    "    if L_low != L_high:\n",
    "        print(\"No saddle point\")\n",
    "        return None\n",
    "    \n",
    "    return np.argwhere(L == L_low)\n",
    "    "
   ]
  },
  {
   "cell_type": "code",
   "execution_count": 9,
   "metadata": {},
   "outputs": [
    {
     "name": "stdout",
     "output_type": "stream",
     "text": [
      "Saddle points in L1 :\n",
      "- (2, 2)\n",
      "Saddle points in L2 :\n",
      "- (1, 1)\n",
      "- (1, 3)\n",
      "- (3, 1)\n",
      "- (3, 3)\n"
     ]
    }
   ],
   "source": [
    "print(\"Saddle points in L1 :\")\n",
    "for x, y in find_saddle_points1(L1):\n",
    "    print(f\"- ({x}, {y})\")\n",
    "print(\"Saddle points in L2 :\")\n",
    "for x, y in find_saddle_points1(L2):\n",
    "    print(f\"- ({x}, {y})\")"
   ]
  },
  {
   "cell_type": "markdown",
   "metadata": {},
   "source": [
    "# 2. "
   ]
  },
  {
   "cell_type": "code",
   "execution_count": 10,
   "metadata": {},
   "outputs": [],
   "source": [
    "def find_saddle_points2(L):\n",
    "    saddle_points = []\n",
    "    for i in range(L.shape[0]):\n",
    "        for j in range(L.shape[1]):\n",
    "            if L[i, j] == np.max(L[i, :]) and L[i, j] == np.min(L[:, j]):\n",
    "                saddle_points.append((i, j))\n",
    "    return saddle_points"
   ]
  },
  {
   "cell_type": "code",
   "execution_count": 11,
   "metadata": {},
   "outputs": [
    {
     "name": "stdout",
     "output_type": "stream",
     "text": [
      "Saddle points in L1 :\n",
      "- (2, 2)\n",
      "Saddle points in L2 :\n",
      "- (1, 1)\n",
      "- (1, 3)\n",
      "- (3, 1)\n",
      "- (3, 3)\n"
     ]
    }
   ],
   "source": [
    "print(\"Saddle points in L1 :\")\n",
    "for x, y in find_saddle_points2(L1):\n",
    "    print(f\"- ({x}, {y})\")\n",
    "print(\"Saddle points in L2 :\")\n",
    "for x, y in find_saddle_points2(L2):\n",
    "    print(f\"- ({x}, {y})\")"
   ]
  },
  {
   "cell_type": "code",
   "execution_count": null,
   "metadata": {},
   "outputs": [],
   "source": []
  }
 ],
 "metadata": {
  "kernelspec": {
   "display_name": "base",
   "language": "python",
   "name": "python3"
  },
  "language_info": {
   "codemirror_mode": {
    "name": "ipython",
    "version": 3
   },
   "file_extension": ".py",
   "mimetype": "text/x-python",
   "name": "python",
   "nbconvert_exporter": "python",
   "pygments_lexer": "ipython3",
   "version": "3.12.3"
  }
 },
 "nbformat": 4,
 "nbformat_minor": 2
}
